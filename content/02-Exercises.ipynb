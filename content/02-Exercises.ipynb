{
 "cells": [
  {
   "cell_type": "markdown",
   "metadata": {},
   "source": [
    "# Exercises for Session 2"
   ]
  },
  {
   "cell_type": "markdown",
   "metadata": {},
   "source": [
    "## Task \n",
    "\n",
    "- Check that you can do the Fizz Buzz problem now"
   ]
  },
  {
   "cell_type": "code",
   "execution_count": 1,
   "metadata": {
    "collapsed": true
   },
   "outputs": [
    {
     "name": "stdout",
     "output_type": "stream",
     "text": [
      "1\n",
      "2\n",
      "Fizz\n",
      "4\n",
      "Buzz\n",
      "Fizz\n",
      "7\n",
      "8\n",
      "Fizz\n",
      "Buzz\n",
      "11\n",
      "Fizz\n",
      "13\n",
      "14\n",
      "FizzBuzz\n",
      "16\n",
      "17\n",
      "Fizz\n",
      "19\n",
      "Buzz\n",
      "Fizz\n",
      "22\n",
      "23\n",
      "Fizz\n",
      "Buzz\n",
      "26\n",
      "Fizz\n",
      "28\n",
      "29\n",
      "FizzBuzz\n",
      "31\n",
      "32\n",
      "Fizz\n",
      "34\n",
      "Buzz\n",
      "Fizz\n",
      "37\n",
      "38\n",
      "Fizz\n",
      "Buzz\n",
      "41\n",
      "Fizz\n",
      "43\n",
      "44\n",
      "FizzBuzz\n",
      "46\n",
      "47\n",
      "Fizz\n",
      "49\n",
      "Buzz\n",
      "Fizz\n",
      "52\n",
      "53\n",
      "Fizz\n",
      "Buzz\n",
      "56\n",
      "Fizz\n",
      "58\n",
      "59\n",
      "FizzBuzz\n",
      "61\n",
      "62\n",
      "Fizz\n",
      "64\n",
      "Buzz\n",
      "Fizz\n",
      "67\n",
      "68\n",
      "Fizz\n",
      "Buzz\n",
      "71\n",
      "Fizz\n",
      "73\n",
      "74\n",
      "FizzBuzz\n",
      "76\n",
      "77\n",
      "Fizz\n",
      "79\n",
      "Buzz\n",
      "Fizz\n",
      "82\n",
      "83\n",
      "Fizz\n",
      "Buzz\n",
      "86\n",
      "Fizz\n",
      "88\n",
      "89\n",
      "FizzBuzz\n",
      "91\n",
      "92\n",
      "Fizz\n",
      "94\n",
      "Buzz\n",
      "Fizz\n",
      "97\n",
      "98\n",
      "Fizz\n",
      "Buzz\n"
     ]
    }
   ],
   "source": [
    "for i in range(1, 101):\n",
    "    if i % 15 == 0:\n",
    "        print(\"FizzBuzz\")\n",
    "    elif i % 3 == 0:\n",
    "        print(\"Fizz\")\n",
    "    elif i % 5 == 0:\n",
    "        print(\"Buzz\")\n",
    "    else: \n",
    "        print(i)"
   ]
  },
  {
   "cell_type": "markdown",
   "metadata": {},
   "source": [
    "## Task\n",
    "\n",
    "Find the sum of the first 20 multiples of 41893.\n",
    "\n",
    "*Hint* \n",
    "- you'll need an extra variable to keep track of the running total."
   ]
  },
  {
   "cell_type": "code",
   "execution_count": 2,
   "metadata": {
    "collapsed": true
   },
   "outputs": [
    {
     "name": "stdout",
     "output_type": "stream",
     "text": [
      "7959670\n"
     ]
    }
   ],
   "source": [
    "sum = 0\n",
    "for i in range(1, 20):\n",
    "    sum += 41893*i\n",
    "print(sum)"
   ]
  },
  {
   "cell_type": "markdown",
   "metadata": {},
   "source": [
    "## Task\n",
    "\n",
    "- write a brute force code to check whether a number, $N$, is a prime number.\n",
    "- why does this get harder and harder to do as $N$ gets larger?\n",
    "\n",
    "*Hint*\n",
    "\n",
    "- the very simplest version would use a double loop (one loop inside another) and something similar to the Fizz Buzz problem."
   ]
  },
  {
   "cell_type": "code",
   "execution_count": 17,
   "metadata": {
    "collapsed": true
   },
   "outputs": [
    {
     "name": "stdout",
     "output_type": "stream",
     "text": [
      "4079 is a prime number.\n"
     ]
    }
   ],
   "source": [
    "i = 1\n",
    "factors = []\n",
    "\n",
    "N = int(input(\"Enter a number: \"))\n",
    "\n",
    "while i <= N:\n",
    "    if N % i == 0:\n",
    "        factors.append(i)\n",
    "        i += 1\n",
    "    else:\n",
    "        i += 1\n",
    "\n",
    "if factors == [1, N]:\n",
    "    print(f\"{N} is a prime number.\")\n",
    "else:\n",
    "    print(f\"{N} is not a prime number, because it has the following factors: {factors}\")"
   ]
  },
  {
   "cell_type": "markdown",
   "metadata": {},
   "source": [
    "## Task \n",
    "\n",
    "- Write a small script to convert a temperature in Farenheit to the Celsius scale.\n",
    "- Alter your program so it reads in a temperature input by the user.\n",
    "\n",
    "*Hints* \n",
    "\n",
    "- use the input() function. \n",
    "- The input read in is taken to be a string - you can test this by using the type() function on your input. \n",
    "    - Use the `float()` function to convert the `str` to a number that you can use."
   ]
  },
  {
   "cell_type": "code",
   "execution_count": 18,
   "metadata": {
    "collapsed": true
   },
   "outputs": [
    {
     "name": "stdout",
     "output_type": "stream",
     "text": [
      "100.0°F is 37.77777777777778°C\n"
     ]
    }
   ],
   "source": [
    "fahrenheit = float(input(\"Enter a temperature in Fahrenheit: \"))\n",
    "celsius = (fahrenheit - 32) * 5/9\n",
    "print(f\"{fahrenheit}°F is {celsius}°C\")"
   ]
  },
  {
   "cell_type": "markdown",
   "metadata": {},
   "source": [
    "## Task\n",
    "\n",
    "combining loops and functions you can get surprisingly impressive results from Turtle graphics.\n",
    "\n",
    "- draw a turtle polygon\n",
    "- check you can draw a circle\n",
    "- can you square a circle?\n",
    "- can you draw [polar graph paper](https://goo.gl/EZva3W) (remember there are up and down methods to stop the turtle drawing)\n",
    "- try adding in a simple design and colours / fills\n",
    "- go crazy"
   ]
  },
  {
   "cell_type": "markdown",
   "metadata": {},
   "source": [
    "*Hints*\n",
    "\n",
    "- You'll want to look at Turtle graphics (https://docs.python.org/3/library/turtle.html)\n",
    "- You'll need to build up slowly and make sure once you see how a step works \n",
    "- you can use loops and functions to keep things clear and simple and make really rather complex patterns\n",
    "\n",
    "Here's an example to work from / play with:"
   ]
  },
  {
   "cell_type": "code",
   "execution_count": 3,
   "metadata": {},
   "outputs": [],
   "source": [
    "import turtle # we'll cover libraries next week, this makes the Turtle functions available\n",
    "import math  # import the math library"
   ]
  },
  {
   "cell_type": "code",
   "execution_count": 4,
   "metadata": {},
   "outputs": [
    {
     "ename": "Terminator",
     "evalue": "",
     "output_type": "error",
     "traceback": [
      "\u001b[1;31m---------------------------------------------------------------------------\u001b[0m",
      "\u001b[1;31mTerminator\u001b[0m                                Traceback (most recent call last)",
      "\u001b[1;32mc:\\Users\\wills\\Documents\\GitHub\\digital-garden\\content\\02-Exercises_1.ipynb Cell 13\u001b[0m line \u001b[0;36m7\n\u001b[0;32m     <a href='vscode-notebook-cell:/c%3A/Users/wills/Documents/GitHub/digital-garden/content/02-Exercises_1.ipynb#X15sZmlsZQ%3D%3D?line=70'>71</a>\u001b[0m turt\u001b[39m.\u001b[39mclear()\n\u001b[0;32m     <a href='vscode-notebook-cell:/c%3A/Users/wills/Documents/GitHub/digital-garden/content/02-Exercises_1.ipynb#X15sZmlsZQ%3D%3D?line=72'>73</a>\u001b[0m \u001b[39m# draw a dragon curve\u001b[39;00m\n\u001b[1;32m---> <a href='vscode-notebook-cell:/c%3A/Users/wills/Documents/GitHub/digital-garden/content/02-Exercises_1.ipynb#X15sZmlsZQ%3D%3D?line=73'>74</a>\u001b[0m dragon_curve(turt, \u001b[39m10\u001b[39;49m)\n\u001b[0;32m     <a href='vscode-notebook-cell:/c%3A/Users/wills/Documents/GitHub/digital-garden/content/02-Exercises_1.ipynb#X15sZmlsZQ%3D%3D?line=75'>76</a>\u001b[0m wn\u001b[39m.\u001b[39mexitonclick()  \u001b[39m# exit when mouse is clicked\u001b[39;00m\n\u001b[0;32m     <a href='vscode-notebook-cell:/c%3A/Users/wills/Documents/GitHub/digital-garden/content/02-Exercises_1.ipynb#X15sZmlsZQ%3D%3D?line=76'>77</a>\u001b[0m \u001b[39m# protect against errors when exiting\u001b[39;00m\n",
      "\u001b[1;32mc:\\Users\\wills\\Documents\\GitHub\\digital-garden\\content\\02-Exercises_1.ipynb Cell 13\u001b[0m line \u001b[0;36m2\n\u001b[0;32m     <a href='vscode-notebook-cell:/c%3A/Users/wills/Documents/GitHub/digital-garden/content/02-Exercises_1.ipynb#X15sZmlsZQ%3D%3D?line=25'>26</a>\u001b[0m \u001b[39melse\u001b[39;00m:\n\u001b[0;32m     <a href='vscode-notebook-cell:/c%3A/Users/wills/Documents/GitHub/digital-garden/content/02-Exercises_1.ipynb#X15sZmlsZQ%3D%3D?line=26'>27</a>\u001b[0m     t\u001b[39m.\u001b[39mright(\u001b[39m45\u001b[39m)\n\u001b[1;32m---> <a href='vscode-notebook-cell:/c%3A/Users/wills/Documents/GitHub/digital-garden/content/02-Exercises_1.ipynb#X15sZmlsZQ%3D%3D?line=27'>28</a>\u001b[0m     dragon_curve(t, iterations\u001b[39m-\u001b[39;49m\u001b[39m1\u001b[39;49m, length\u001b[39m*\u001b[39;49mscaling_factor, scaling_factor)\n\u001b[0;32m     <a href='vscode-notebook-cell:/c%3A/Users/wills/Documents/GitHub/digital-garden/content/02-Exercises_1.ipynb#X15sZmlsZQ%3D%3D?line=28'>29</a>\u001b[0m     t\u001b[39m.\u001b[39mleft(\u001b[39m90\u001b[39m)\n\u001b[0;32m     <a href='vscode-notebook-cell:/c%3A/Users/wills/Documents/GitHub/digital-garden/content/02-Exercises_1.ipynb#X15sZmlsZQ%3D%3D?line=29'>30</a>\u001b[0m     dragon_curve(t, iterations\u001b[39m-\u001b[39m\u001b[39m1\u001b[39m, length\u001b[39m*\u001b[39mscaling_factor, scaling_factor)\n",
      "\u001b[1;32mc:\\Users\\wills\\Documents\\GitHub\\digital-garden\\content\\02-Exercises_1.ipynb Cell 13\u001b[0m line \u001b[0;36m2\n\u001b[0;32m     <a href='vscode-notebook-cell:/c%3A/Users/wills/Documents/GitHub/digital-garden/content/02-Exercises_1.ipynb#X15sZmlsZQ%3D%3D?line=25'>26</a>\u001b[0m \u001b[39melse\u001b[39;00m:\n\u001b[0;32m     <a href='vscode-notebook-cell:/c%3A/Users/wills/Documents/GitHub/digital-garden/content/02-Exercises_1.ipynb#X15sZmlsZQ%3D%3D?line=26'>27</a>\u001b[0m     t\u001b[39m.\u001b[39mright(\u001b[39m45\u001b[39m)\n\u001b[1;32m---> <a href='vscode-notebook-cell:/c%3A/Users/wills/Documents/GitHub/digital-garden/content/02-Exercises_1.ipynb#X15sZmlsZQ%3D%3D?line=27'>28</a>\u001b[0m     dragon_curve(t, iterations\u001b[39m-\u001b[39;49m\u001b[39m1\u001b[39;49m, length\u001b[39m*\u001b[39;49mscaling_factor, scaling_factor)\n\u001b[0;32m     <a href='vscode-notebook-cell:/c%3A/Users/wills/Documents/GitHub/digital-garden/content/02-Exercises_1.ipynb#X15sZmlsZQ%3D%3D?line=28'>29</a>\u001b[0m     t\u001b[39m.\u001b[39mleft(\u001b[39m90\u001b[39m)\n\u001b[0;32m     <a href='vscode-notebook-cell:/c%3A/Users/wills/Documents/GitHub/digital-garden/content/02-Exercises_1.ipynb#X15sZmlsZQ%3D%3D?line=29'>30</a>\u001b[0m     dragon_curve(t, iterations\u001b[39m-\u001b[39m\u001b[39m1\u001b[39m, length\u001b[39m*\u001b[39mscaling_factor, scaling_factor)\n",
      "\u001b[1;32mc:\\Users\\wills\\Documents\\GitHub\\digital-garden\\content\\02-Exercises_1.ipynb Cell 13\u001b[0m line \u001b[0;36m3\n\u001b[0;32m     <a href='vscode-notebook-cell:/c%3A/Users/wills/Documents/GitHub/digital-garden/content/02-Exercises_1.ipynb#X15sZmlsZQ%3D%3D?line=27'>28</a>\u001b[0m dragon_curve(t, iterations\u001b[39m-\u001b[39m\u001b[39m1\u001b[39m, length\u001b[39m*\u001b[39mscaling_factor, scaling_factor)\n\u001b[0;32m     <a href='vscode-notebook-cell:/c%3A/Users/wills/Documents/GitHub/digital-garden/content/02-Exercises_1.ipynb#X15sZmlsZQ%3D%3D?line=28'>29</a>\u001b[0m t\u001b[39m.\u001b[39mleft(\u001b[39m90\u001b[39m)\n\u001b[1;32m---> <a href='vscode-notebook-cell:/c%3A/Users/wills/Documents/GitHub/digital-garden/content/02-Exercises_1.ipynb#X15sZmlsZQ%3D%3D?line=29'>30</a>\u001b[0m dragon_curve(t, iterations\u001b[39m-\u001b[39;49m\u001b[39m1\u001b[39;49m, length\u001b[39m*\u001b[39;49mscaling_factor, scaling_factor)\n\u001b[0;32m     <a href='vscode-notebook-cell:/c%3A/Users/wills/Documents/GitHub/digital-garden/content/02-Exercises_1.ipynb#X15sZmlsZQ%3D%3D?line=30'>31</a>\u001b[0m t\u001b[39m.\u001b[39mright(\u001b[39m45\u001b[39m)\n",
      "    \u001b[1;31m[... skipping similar frames: dragon_curve at line 28 (1 times)]\u001b[0m\n",
      "\u001b[1;32mc:\\Users\\wills\\Documents\\GitHub\\digital-garden\\content\\02-Exercises_1.ipynb Cell 13\u001b[0m line \u001b[0;36m3\n\u001b[0;32m     <a href='vscode-notebook-cell:/c%3A/Users/wills/Documents/GitHub/digital-garden/content/02-Exercises_1.ipynb#X15sZmlsZQ%3D%3D?line=27'>28</a>\u001b[0m dragon_curve(t, iterations\u001b[39m-\u001b[39m\u001b[39m1\u001b[39m, length\u001b[39m*\u001b[39mscaling_factor, scaling_factor)\n\u001b[0;32m     <a href='vscode-notebook-cell:/c%3A/Users/wills/Documents/GitHub/digital-garden/content/02-Exercises_1.ipynb#X15sZmlsZQ%3D%3D?line=28'>29</a>\u001b[0m t\u001b[39m.\u001b[39mleft(\u001b[39m90\u001b[39m)\n\u001b[1;32m---> <a href='vscode-notebook-cell:/c%3A/Users/wills/Documents/GitHub/digital-garden/content/02-Exercises_1.ipynb#X15sZmlsZQ%3D%3D?line=29'>30</a>\u001b[0m dragon_curve(t, iterations\u001b[39m-\u001b[39;49m\u001b[39m1\u001b[39;49m, length\u001b[39m*\u001b[39;49mscaling_factor, scaling_factor)\n\u001b[0;32m     <a href='vscode-notebook-cell:/c%3A/Users/wills/Documents/GitHub/digital-garden/content/02-Exercises_1.ipynb#X15sZmlsZQ%3D%3D?line=30'>31</a>\u001b[0m t\u001b[39m.\u001b[39mright(\u001b[39m45\u001b[39m)\n",
      "    \u001b[1;31m[... skipping similar frames: dragon_curve at line 30 (1 times)]\u001b[0m\n",
      "\u001b[1;32mc:\\Users\\wills\\Documents\\GitHub\\digital-garden\\content\\02-Exercises_1.ipynb Cell 13\u001b[0m line \u001b[0;36m3\n\u001b[0;32m     <a href='vscode-notebook-cell:/c%3A/Users/wills/Documents/GitHub/digital-garden/content/02-Exercises_1.ipynb#X15sZmlsZQ%3D%3D?line=27'>28</a>\u001b[0m dragon_curve(t, iterations\u001b[39m-\u001b[39m\u001b[39m1\u001b[39m, length\u001b[39m*\u001b[39mscaling_factor, scaling_factor)\n\u001b[0;32m     <a href='vscode-notebook-cell:/c%3A/Users/wills/Documents/GitHub/digital-garden/content/02-Exercises_1.ipynb#X15sZmlsZQ%3D%3D?line=28'>29</a>\u001b[0m t\u001b[39m.\u001b[39mleft(\u001b[39m90\u001b[39m)\n\u001b[1;32m---> <a href='vscode-notebook-cell:/c%3A/Users/wills/Documents/GitHub/digital-garden/content/02-Exercises_1.ipynb#X15sZmlsZQ%3D%3D?line=29'>30</a>\u001b[0m dragon_curve(t, iterations\u001b[39m-\u001b[39;49m\u001b[39m1\u001b[39;49m, length\u001b[39m*\u001b[39;49mscaling_factor, scaling_factor)\n\u001b[0;32m     <a href='vscode-notebook-cell:/c%3A/Users/wills/Documents/GitHub/digital-garden/content/02-Exercises_1.ipynb#X15sZmlsZQ%3D%3D?line=30'>31</a>\u001b[0m t\u001b[39m.\u001b[39mright(\u001b[39m45\u001b[39m)\n",
      "    \u001b[1;31m[... skipping similar frames: dragon_curve at line 28 (1 times)]\u001b[0m\n",
      "\u001b[1;32mc:\\Users\\wills\\Documents\\GitHub\\digital-garden\\content\\02-Exercises_1.ipynb Cell 13\u001b[0m line \u001b[0;36m2\n\u001b[0;32m     <a href='vscode-notebook-cell:/c%3A/Users/wills/Documents/GitHub/digital-garden/content/02-Exercises_1.ipynb#X15sZmlsZQ%3D%3D?line=25'>26</a>\u001b[0m \u001b[39melse\u001b[39;00m:\n\u001b[0;32m     <a href='vscode-notebook-cell:/c%3A/Users/wills/Documents/GitHub/digital-garden/content/02-Exercises_1.ipynb#X15sZmlsZQ%3D%3D?line=26'>27</a>\u001b[0m     t\u001b[39m.\u001b[39mright(\u001b[39m45\u001b[39m)\n\u001b[1;32m---> <a href='vscode-notebook-cell:/c%3A/Users/wills/Documents/GitHub/digital-garden/content/02-Exercises_1.ipynb#X15sZmlsZQ%3D%3D?line=27'>28</a>\u001b[0m     dragon_curve(t, iterations\u001b[39m-\u001b[39;49m\u001b[39m1\u001b[39;49m, length\u001b[39m*\u001b[39;49mscaling_factor, scaling_factor)\n\u001b[0;32m     <a href='vscode-notebook-cell:/c%3A/Users/wills/Documents/GitHub/digital-garden/content/02-Exercises_1.ipynb#X15sZmlsZQ%3D%3D?line=28'>29</a>\u001b[0m     t\u001b[39m.\u001b[39mleft(\u001b[39m90\u001b[39m)\n\u001b[0;32m     <a href='vscode-notebook-cell:/c%3A/Users/wills/Documents/GitHub/digital-garden/content/02-Exercises_1.ipynb#X15sZmlsZQ%3D%3D?line=29'>30</a>\u001b[0m     dragon_curve(t, iterations\u001b[39m-\u001b[39m\u001b[39m1\u001b[39m, length\u001b[39m*\u001b[39mscaling_factor, scaling_factor)\n",
      "\u001b[1;32mc:\\Users\\wills\\Documents\\GitHub\\digital-garden\\content\\02-Exercises_1.ipynb Cell 13\u001b[0m line \u001b[0;36m2\n\u001b[0;32m     <a href='vscode-notebook-cell:/c%3A/Users/wills/Documents/GitHub/digital-garden/content/02-Exercises_1.ipynb#X15sZmlsZQ%3D%3D?line=24'>25</a>\u001b[0m     t\u001b[39m.\u001b[39mforward(length)\n\u001b[0;32m     <a href='vscode-notebook-cell:/c%3A/Users/wills/Documents/GitHub/digital-garden/content/02-Exercises_1.ipynb#X15sZmlsZQ%3D%3D?line=25'>26</a>\u001b[0m \u001b[39melse\u001b[39;00m:\n\u001b[1;32m---> <a href='vscode-notebook-cell:/c%3A/Users/wills/Documents/GitHub/digital-garden/content/02-Exercises_1.ipynb#X15sZmlsZQ%3D%3D?line=26'>27</a>\u001b[0m     t\u001b[39m.\u001b[39;49mright(\u001b[39m45\u001b[39;49m)\n\u001b[0;32m     <a href='vscode-notebook-cell:/c%3A/Users/wills/Documents/GitHub/digital-garden/content/02-Exercises_1.ipynb#X15sZmlsZQ%3D%3D?line=27'>28</a>\u001b[0m     dragon_curve(t, iterations\u001b[39m-\u001b[39m\u001b[39m1\u001b[39m, length\u001b[39m*\u001b[39mscaling_factor, scaling_factor)\n\u001b[0;32m     <a href='vscode-notebook-cell:/c%3A/Users/wills/Documents/GitHub/digital-garden/content/02-Exercises_1.ipynb#X15sZmlsZQ%3D%3D?line=28'>29</a>\u001b[0m     t\u001b[39m.\u001b[39mleft(\u001b[39m90\u001b[39m)\n",
      "File \u001b[1;32mc:\\Python311\\Lib\\turtle.py:1679\u001b[0m, in \u001b[0;36mTNavigator.right\u001b[1;34m(self, angle)\u001b[0m\n\u001b[0;32m   1660\u001b[0m \u001b[39mdef\u001b[39;00m \u001b[39mright\u001b[39m(\u001b[39mself\u001b[39m, angle):\n\u001b[0;32m   1661\u001b[0m \u001b[39m    \u001b[39m\u001b[39m\"\"\"Turn turtle right by angle units.\u001b[39;00m\n\u001b[0;32m   1662\u001b[0m \n\u001b[0;32m   1663\u001b[0m \u001b[39m    Aliases: right | rt\u001b[39;00m\n\u001b[1;32m   (...)\u001b[0m\n\u001b[0;32m   1677\u001b[0m \u001b[39m    337.0\u001b[39;00m\n\u001b[0;32m   1678\u001b[0m \u001b[39m    \"\"\"\u001b[39;00m\n\u001b[1;32m-> 1679\u001b[0m     \u001b[39mself\u001b[39;49m\u001b[39m.\u001b[39;49m_rotate(\u001b[39m-\u001b[39;49mangle)\n",
      "File \u001b[1;32mc:\\Python311\\Lib\\turtle.py:3293\u001b[0m, in \u001b[0;36mRawTurtle._rotate\u001b[1;34m(self, angle)\u001b[0m\n\u001b[0;32m   3291\u001b[0m     \u001b[39mfor\u001b[39;00m _ \u001b[39min\u001b[39;00m \u001b[39mrange\u001b[39m(steps):\n\u001b[0;32m   3292\u001b[0m         \u001b[39mself\u001b[39m\u001b[39m.\u001b[39m_orient \u001b[39m=\u001b[39m \u001b[39mself\u001b[39m\u001b[39m.\u001b[39m_orient\u001b[39m.\u001b[39mrotate(delta)\n\u001b[1;32m-> 3293\u001b[0m         \u001b[39mself\u001b[39;49m\u001b[39m.\u001b[39;49m_update()\n\u001b[0;32m   3294\u001b[0m \u001b[39mself\u001b[39m\u001b[39m.\u001b[39m_orient \u001b[39m=\u001b[39m neworient\n\u001b[0;32m   3295\u001b[0m \u001b[39mself\u001b[39m\u001b[39m.\u001b[39m_update()\n",
      "File \u001b[1;32mc:\\Python311\\Lib\\turtle.py:2661\u001b[0m, in \u001b[0;36mRawTurtle._update\u001b[1;34m(self)\u001b[0m\n\u001b[0;32m   2659\u001b[0m     \u001b[39mreturn\u001b[39;00m\n\u001b[0;32m   2660\u001b[0m \u001b[39melif\u001b[39;00m screen\u001b[39m.\u001b[39m_tracing \u001b[39m==\u001b[39m \u001b[39m1\u001b[39m:\n\u001b[1;32m-> 2661\u001b[0m     \u001b[39mself\u001b[39;49m\u001b[39m.\u001b[39;49m_update_data()\n\u001b[0;32m   2662\u001b[0m     \u001b[39mself\u001b[39m\u001b[39m.\u001b[39m_drawturtle()\n\u001b[0;32m   2663\u001b[0m     screen\u001b[39m.\u001b[39m_update()                  \u001b[39m# TurtleScreenBase\u001b[39;00m\n",
      "File \u001b[1;32mc:\\Python311\\Lib\\turtle.py:2647\u001b[0m, in \u001b[0;36mRawTurtle._update_data\u001b[1;34m(self)\u001b[0m\n\u001b[0;32m   2646\u001b[0m \u001b[39mdef\u001b[39;00m \u001b[39m_update_data\u001b[39m(\u001b[39mself\u001b[39m):\n\u001b[1;32m-> 2647\u001b[0m     \u001b[39mself\u001b[39;49m\u001b[39m.\u001b[39;49mscreen\u001b[39m.\u001b[39;49m_incrementudc()\n\u001b[0;32m   2648\u001b[0m     \u001b[39mif\u001b[39;00m \u001b[39mself\u001b[39m\u001b[39m.\u001b[39mscreen\u001b[39m.\u001b[39m_updatecounter \u001b[39m!=\u001b[39m \u001b[39m0\u001b[39m:\n\u001b[0;32m   2649\u001b[0m         \u001b[39mreturn\u001b[39;00m\n",
      "File \u001b[1;32mc:\\Python311\\Lib\\turtle.py:1293\u001b[0m, in \u001b[0;36mTurtleScreen._incrementudc\u001b[1;34m(self)\u001b[0m\n\u001b[0;32m   1291\u001b[0m \u001b[39mif\u001b[39;00m \u001b[39mnot\u001b[39;00m TurtleScreen\u001b[39m.\u001b[39m_RUNNING:\n\u001b[0;32m   1292\u001b[0m     TurtleScreen\u001b[39m.\u001b[39m_RUNNING \u001b[39m=\u001b[39m \u001b[39mTrue\u001b[39;00m\n\u001b[1;32m-> 1293\u001b[0m     \u001b[39mraise\u001b[39;00m Terminator\n\u001b[0;32m   1294\u001b[0m \u001b[39mif\u001b[39;00m \u001b[39mself\u001b[39m\u001b[39m.\u001b[39m_tracing \u001b[39m>\u001b[39m \u001b[39m0\u001b[39m:\n\u001b[0;32m   1295\u001b[0m     \u001b[39mself\u001b[39m\u001b[39m.\u001b[39m_updatecounter \u001b[39m+\u001b[39m\u001b[39m=\u001b[39m \u001b[39m1\u001b[39m\n",
      "\u001b[1;31mTerminator\u001b[0m: "
     ]
    }
   ],
   "source": [
    "def draw_circle(t, r):\n",
    "    \"\"\"\n",
    "    Draws a circle with a given radius using turtle.\n",
    "    \"\"\"\n",
    "    t.penup()\n",
    "    t.goto(0, -r)  # go to the starting point (bottom of the circle)\n",
    "    t.pendown()\n",
    "    t.circle(r)\n",
    "\n",
    "def draw_radial_line(t, angle, r):\n",
    "    \"\"\"\n",
    "    Draws a radial line from the center to the circle's edge with a given angle and radius using turtle.\n",
    "    \"\"\"\n",
    "    t.penup()\n",
    "    t.goto(0, 0)  # go to the center\n",
    "    t.setheading(angle)\n",
    "    t.pendown()\n",
    "    t.forward(r)\n",
    "\n",
    "def dragon_curve(t, iterations, length=200, scaling_factor=0.7071):\n",
    "    \"\"\"\n",
    "    Draws a Dragon Curve using recursive function.\n",
    "    \"\"\"\n",
    "    if iterations == 0:\n",
    "        t.forward(length)\n",
    "    else:\n",
    "        t.right(45)\n",
    "        dragon_curve(t, iterations-1, length*scaling_factor, scaling_factor)\n",
    "        t.left(90)\n",
    "        dragon_curve(t, iterations-1, length*scaling_factor, scaling_factor)\n",
    "        t.right(45)\n",
    "\n",
    "# setup the window and turtle\n",
    "wn = turtle.Screen()  # creates a new window for the turtle to work in\n",
    "turt = turtle.Turtle()  # create a turtle named turt\n",
    "\n",
    "# create interesting colours\n",
    "wn.colormode(255)  # change the colormode to 0..255\n",
    "wn.bgcolor(0, 0, 0)  # set the background colour to black\n",
    "turt.color(255, 0, 0)  # set the colour of the turtle to red\n",
    "turt.pensize(3)  # set the width of the pen\n",
    "\n",
    "r = 100  # radius of circle\n",
    "A = 3.14159 * r**2  # area of circle\n",
    "l = math.sqrt(A)  # length of square\n",
    "\n",
    "# draw a circle\n",
    "turt.circle(r)\n",
    "\n",
    "# squaring the circle\n",
    "turt.penup()\n",
    "turt.setposition(-(l/2), l)\n",
    "turt.pendown()\n",
    "for i in range(4):  # draw a square\n",
    "    turt.forward(l)\n",
    "    turt.right(90)\n",
    "\n",
    "# clear the screen\n",
    "turt.clear()\n",
    "\n",
    "# drawing polar graph paper\n",
    "# draw concentric circles\n",
    "for i in range(10, int(r) + 10, 10):  # this will draw circles within the given radius\n",
    "    draw_circle(turt, i)\n",
    "\n",
    "# draw radial lines\n",
    "for angle in range(0, 360, 30):  # this will draw lines at angles 0, 30, 60, ..., 330\n",
    "    draw_radial_line(turt, angle, r)\n",
    "\n",
    "# clear the screen\n",
    "turt.clear()\n",
    "\n",
    "# draw a dragon curve\n",
    "dragon_curve(turt, 10)\n",
    "\n",
    "wn.exitonclick()  # exit when mouse is clicked\n",
    "# protect against errors when exiting\n",
    "try:\n",
    "    turtle.bye()\n",
    "except:\n",
    "    print(\"cleaning up\")"
   ]
  }
 ],
 "metadata": {
  "anaconda-cloud": {},
  "kernelspec": {
   "display_name": "Python 3",
   "language": "python",
   "name": "python3"
  },
  "language_info": {
   "codemirror_mode": {
    "name": "ipython",
    "version": 3
   },
   "file_extension": ".py",
   "mimetype": "text/x-python",
   "name": "python",
   "nbconvert_exporter": "python",
   "pygments_lexer": "ipython3",
   "version": "3.11.5"
  }
 },
 "nbformat": 4,
 "nbformat_minor": 1
}
