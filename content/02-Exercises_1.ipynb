{
 "cells": [
  {
   "cell_type": "markdown",
   "metadata": {},
   "source": [
    "# Exercises for Session 2"
   ]
  },
  {
   "cell_type": "markdown",
   "metadata": {},
   "source": [
    "## Task \n",
    "\n",
    "- Check that you can do the Fizz Buzz problem now"
   ]
  },
  {
   "cell_type": "code",
   "execution_count": null,
   "metadata": {
    "collapsed": true
   },
   "outputs": [],
   "source": []
  },
  {
   "cell_type": "markdown",
   "metadata": {},
   "source": [
    "## Task\n",
    "\n",
    "Find the sum of the first 20 multiples of 41893.\n",
    "\n",
    "*Hint* \n",
    "- you'll need an extra variable to keep track of the running total."
   ]
  },
  {
   "cell_type": "code",
   "execution_count": null,
   "metadata": {
    "collapsed": true
   },
   "outputs": [],
   "source": []
  },
  {
   "cell_type": "markdown",
   "metadata": {},
   "source": [
    "## Task\n",
    "\n",
    "- write a brute force code to check whether a number, $N$, is a prime number.\n",
    "- why does this get harder and harder to do as $N$ gets larger?\n",
    "\n",
    "*Hint*\n",
    "\n",
    "- the very simplest version would use a double loop (one loop inside another) and something similar to the Fizz Buzz problem."
   ]
  },
  {
   "cell_type": "code",
   "execution_count": null,
   "metadata": {
    "collapsed": true
   },
   "outputs": [],
   "source": []
  },
  {
   "cell_type": "markdown",
   "metadata": {},
   "source": [
    "## Task \n",
    "\n",
    "- Write a small script to convert a temperature in Farenheit to the Celsius scale.\n",
    "- Alter your program so it reads in a temperature input by the user.\n",
    "\n",
    "*Hints* \n",
    "\n",
    "- use the input() function. \n",
    "- The input read in is taken to be a string - you can test this by using the type() function on your input. \n",
    "    - Use the `float()` function to convert the `str` to a number that you can use."
   ]
  },
  {
   "cell_type": "code",
   "execution_count": null,
   "metadata": {
    "collapsed": true
   },
   "outputs": [],
   "source": []
  },
  {
   "cell_type": "markdown",
   "metadata": {},
   "source": [
    "## Task\n",
    "\n",
    "combining loops and functions you can get surprisingly impressive results from Turtle graphics.\n",
    "\n",
    "- draw a turtle polygon\n",
    "- check you can draw a circle\n",
    "- can you square a circle?\n",
    "- can you draw [polar graph paper](https://goo.gl/EZva3W) (remember there are up and down methods to stop the turtle drawing)\n",
    "- try adding in a simple design and colours / fills\n",
    "- go crazy"
   ]
  },
  {
   "cell_type": "markdown",
   "metadata": {},
   "source": [
    "*Hints*\n",
    "\n",
    "- You'll want to look at Turtle graphics (https://docs.python.org/3/library/turtle.html)\n",
    "- You'll need to build up slowly and make sure once you see how a step works \n",
    "- you can use loops and functions to keep things clear and simple and make really rather complex patterns\n",
    "\n",
    "Here's an example to work from / play with:"
   ]
  },
  {
   "cell_type": "code",
   "execution_count": 1,
   "metadata": {},
   "outputs": [],
   "source": [
    "import turtle # we'll cover libraries next week, this makes the Turtle functions available"
   ]
  },
  {
   "cell_type": "code",
   "execution_count": 3,
   "metadata": {},
   "outputs": [
    {
     "name": "stdout",
     "output_type": "stream",
     "text": [
      "cleaning up\n"
     ]
    }
   ],
   "source": [
    "wn = turtle.Screen() # creates a new window for the turtle to work in\n",
    "# and example that draws a kind of spiral\n",
    "turtle.color('red') # makes its 'slime' red\n",
    "turtle.speed(0.5) # try playing with this\n",
    "\n",
    "for i in range(100):\n",
    "    turtle.left(45)\n",
    "    turtle.forward(1 + i)\n",
    "\n",
    "wn.exitonclick() # exit when mouse is clicked\n",
    "# protect against errors when exiting\n",
    "try:\n",
    "    turtle.bye()\n",
    "except:\n",
    "    print(\"cleaning up\")"
   ]
  }
 ],
 "metadata": {
  "anaconda-cloud": {},
  "kernelspec": {
   "display_name": "Python 3",
   "language": "python",
   "name": "python3"
  },
  "language_info": {
   "codemirror_mode": {
    "name": "ipython",
    "version": 3
   },
   "file_extension": ".py",
   "mimetype": "text/x-python",
   "name": "python",
   "nbconvert_exporter": "python",
   "pygments_lexer": "ipython3",
   "version": "3.8.5"
  }
 },
 "nbformat": 4,
 "nbformat_minor": 1
}
